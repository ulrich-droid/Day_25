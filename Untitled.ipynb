{
 "cells": [
  {
   "cell_type": "code",
   "execution_count": 6,
   "id": "8c451138-ee50-4244-9631-ef09f38ab487",
   "metadata": {},
   "outputs": [
    {
     "name": "stdout",
     "output_type": "stream",
     "text": [
      "Requirement already satisfied: numpy in c:\\users\\d\\anaconda3\\lib\\site-packages (2.1.3)\n",
      "Note: you may need to restart the kernel to use updated packages.\n"
     ]
    }
   ],
   "source": [
    "pip install numpy\n"
   ]
  },
  {
   "cell_type": "code",
   "execution_count": 8,
   "id": "aee3b7c2-460e-481e-aabb-3818428ffe49",
   "metadata": {},
   "outputs": [
    {
     "name": "stdout",
     "output_type": "stream",
     "text": [
      "numpy: 2.1.3\n",
      "['False_', 'ScalarType', 'True_', '_CopyMode', '_NoValue', '__NUMPY_SETUP__', '__all__', '__array_api_version__', '__array_namespace_info__', '__builtins__', '__cached__', '__config__', '__dir__', '__doc__', '__expired_attributes__', '__file__', '__former_attrs__', '__future_scalars__', '__getattr__', '__loader__', '__name__', '__numpy_submodules__', '__package__', '__path__', '__spec__', '__version__', '_array_api_info', '_core', '_distributor_init', '_expired_attrs_2_0', '_get_promotion_state', '_globals', '_int_extended_msg', '_mat', '_msg', '_no_nep50_warning', '_pyinstaller_hooks_dir', '_pytesttester', '_set_promotion_state', '_specific_msg', '_type_info', '_typing', '_utils', 'abs', 'absolute', 'acos', 'acosh', 'add', 'all', 'allclose', 'amax', 'amin', 'angle', 'any', 'append', 'apply_along_axis', 'apply_over_axes', 'arange', 'arccos', 'arccosh', 'arcsin', 'arcsinh', 'arctan', 'arctan2', 'arctanh', 'argmax', 'argmin', 'argpartition', 'argsort', 'argwhere', 'around', 'array', 'array2string', 'array_equal', 'array_equiv', 'array_repr', 'array_split', 'array_str', 'asanyarray', 'asarray', 'asarray_chkfinite', 'ascontiguousarray', 'asfortranarray', 'asin', 'asinh', 'asmatrix', 'astype', 'atan', 'atan2', 'atanh', 'atleast_1d', 'atleast_2d', 'atleast_3d', 'average', 'bartlett', 'base_repr', 'binary_repr', 'bincount', 'bitwise_and', 'bitwise_count', 'bitwise_invert', 'bitwise_left_shift', 'bitwise_not', 'bitwise_or', 'bitwise_right_shift', 'bitwise_xor', 'blackman', 'block', 'bmat', 'bool', 'bool_', 'broadcast', 'broadcast_arrays', 'broadcast_shapes', 'broadcast_to', 'busday_count', 'busday_offset', 'busdaycalendar', 'byte', 'bytes_', 'c_', 'can_cast', 'cbrt', 'cdouble', 'ceil', 'char', 'character', 'choose', 'clip', 'clongdouble', 'column_stack', 'common_type', 'complex128', 'complex64', 'complexfloating', 'compress', 'concat', 'concatenate', 'conj', 'conjugate', 'convolve', 'copy', 'copysign', 'copyto', 'core', 'corrcoef', 'correlate', 'cos', 'cosh', 'count_nonzero', 'cov', 'cross', 'csingle', 'ctypeslib', 'cumprod', 'cumsum', 'cumulative_prod', 'cumulative_sum', 'datetime64', 'datetime_as_string', 'datetime_data', 'deg2rad', 'degrees', 'delete', 'diag', 'diag_indices', 'diag_indices_from', 'diagflat', 'diagonal', 'diff', 'digitize', 'divide', 'divmod', 'dot', 'double', 'dsplit', 'dstack', 'dtype', 'dtypes', 'e', 'ediff1d', 'einsum', 'einsum_path', 'emath', 'empty', 'empty_like', 'equal', 'errstate', 'euler_gamma', 'exceptions', 'exp', 'exp2', 'expand_dims', 'expm1', 'expm1x', 'extract', 'eye', 'f2py', 'fabs', 'fft', 'fill_diagonal', 'finfo', 'fix', 'flatiter', 'flatnonzero', 'flexible', 'flip', 'fliplr', 'flipud', 'float16', 'float32', 'float64', 'float_power', 'floating', 'floor', 'floor_divide', 'fmax', 'fmin', 'fmod', 'format_float_positional', 'format_float_scientific', 'frexp', 'from_dlpack', 'frombuffer', 'fromfile', 'fromfunction', 'fromiter', 'frompyfunc', 'fromregex', 'fromstring', 'full', 'full_like', 'gcd', 'generic', 'genfromtxt', 'geomspace', 'get_include', 'get_printoptions', 'getbufsize', 'geterr', 'geterrcall', 'gradient', 'greater', 'greater_equal', 'half', 'hamming', 'hanning', 'heaviside', 'histogram', 'histogram2d', 'histogram_bin_edges', 'histogramdd', 'hsplit', 'hstack', 'hypot', 'i0', 'identity', 'iinfo', 'imag', 'in1d', 'index_exp', 'indices', 'inexact', 'inf', 'info', 'inner', 'insert', 'int16', 'int32', 'int64', 'int8', 'int_', 'intc', 'integer', 'interp', 'intersect1d', 'intp', 'invert', 'is_busday', 'isclose', 'iscomplex', 'iscomplexobj', 'isdtype', 'isfinite', 'isfortran', 'isin', 'isinf', 'isnan', 'isnat', 'isneginf', 'isposinf', 'isreal', 'isrealobj', 'isscalar', 'issubdtype', 'iterable', 'ix_', 'kaiser', 'kron', 'lcm', 'ldexp', 'left_shift', 'less', 'less_equal', 'lexsort', 'lib', 'linalg', 'linspace', 'little_endian', 'load', 'loadtxt', 'log', 'log10', 'log1p', 'log2', 'logaddexp', 'logaddexp2', 'logical_and', 'logical_not', 'logical_or', 'logical_xor', 'logspace', 'long', 'longdouble', 'longlong', 'ma', 'mask_indices', 'matmul', 'matrix', 'matrix_transpose', 'max', 'maximum', 'may_share_memory', 'mean', 'median', 'memmap', 'meshgrid', 'mgrid', 'min', 'min_scalar_type', 'minimum', 'mintypecode', 'mod', 'modf', 'moveaxis', 'multiply', 'nan', 'nan_to_num', 'nanargmax', 'nanargmin', 'nancumprod', 'nancumsum', 'nanmax', 'nanmean', 'nanmedian', 'nanmin', 'nanpercentile', 'nanprod', 'nanquantile', 'nanstd', 'nansum', 'nanvar', 'ndarray', 'ndenumerate', 'ndim', 'ndindex', 'nditer', 'negative', 'nested_iters', 'newaxis', 'nextafter', 'nonzero', 'not_equal', 'number', 'object_', 'ogrid', 'ones', 'ones_like', 'outer', 'packbits', 'pad', 'partition', 'percentile', 'permute_dims', 'pi', 'piecewise', 'place', 'poly', 'poly1d', 'polyadd', 'polyder', 'polydiv', 'polyfit', 'polyint', 'polymul', 'polynomial', 'polysub', 'polyval', 'positive', 'pow', 'power', 'printoptions', 'prod', 'promote_types', 'ptp', 'put', 'put_along_axis', 'putmask', 'quantile', 'r_', 'rad2deg', 'radians', 'random', 'ravel', 'ravel_multi_index', 'real', 'real_if_close', 'rec', 'recarray', 'reciprocal', 'record', 'remainder', 'repeat', 'require', 'reshape', 'resize', 'result_type', 'right_shift', 'rint', 'roll', 'rollaxis', 'roots', 'rot90', 'round', 'row_stack', 's_', 'save', 'savetxt', 'savez', 'savez_compressed', 'sctypeDict', 'searchsorted', 'select', 'set_printoptions', 'setbufsize', 'setdiff1d', 'seterr', 'seterrcall', 'setxor1d', 'shape', 'shares_memory', 'short', 'show_config', 'show_runtime', 'sign', 'signbit', 'signedinteger', 'sin', 'sinc', 'single', 'sinh', 'size', 'sort', 'sort_complex', 'spacing', 'split', 'sqrt', 'square', 'squeeze', 'stack', 'std', 'str_', 'strings', 'subtract', 'sum', 'swapaxes', 'take', 'take_along_axis', 'tan', 'tanh', 'tensordot', 'test', 'testing', 'tile', 'timedelta64', 'trace', 'transpose', 'trapezoid', 'trapz', 'tri', 'tril', 'tril_indices', 'tril_indices_from', 'trim_zeros', 'triu', 'triu_indices', 'triu_indices_from', 'true_divide', 'trunc', 'typecodes', 'typename', 'typing', 'ubyte', 'ufunc', 'uint', 'uint16', 'uint32', 'uint64', 'uint8', 'uintc', 'uintp', 'ulong', 'ulonglong', 'union1d', 'unique', 'unique_all', 'unique_counts', 'unique_inverse', 'unique_values', 'unpackbits', 'unravel_index', 'unsignedinteger', 'unstack', 'unwrap', 'ushort', 'vander', 'var', 'vdot', 'vecdot', 'vectorize', 'void', 'vsplit', 'vstack', 'where', 'zeros', 'zeros_like']\n"
     ]
    }
   ],
   "source": [
    "import numpy as np\n",
    "print(\"numpy:\",np.__version__)\n",
    "print(dir(np))\n"
   ]
  },
  {
   "cell_type": "code",
   "execution_count": 16,
   "id": "825dce3e-0a28-4a85-af20-b55ec1608248",
   "metadata": {},
   "outputs": [
    {
     "name": "stdout",
     "output_type": "stream",
     "text": [
      "type: <class 'list'>\n",
      "[1, 2, 3, 4, 5]\n",
      "[[0, 1, 2], [3, 4, 5], [6, 7, 8]]\n",
      "<class 'numpy.ndarray'>\n",
      "[1 2 3 4 5]\n"
     ]
    }
   ],
   "source": [
    "# creating python list\n",
    "python_list = [1,2,3,4,5]\n",
    "# Checking data types\n",
    "print(\"type:\",type(python_list))\n",
    "#\n",
    "print(python_list)\n",
    "two_dimensional_list = [[0,1,2],[3,4,5],[6,7,8]]\n",
    "print(two_dimensional_list)\n",
    "# creating Numpy(Numerical python) array from python list\n",
    "numpy_array_from_list = np.array(python_list)\n",
    "print(type(numpy_array_from_list))\n",
    "print(numpy_array_from_list)"
   ]
  },
  {
   "cell_type": "code",
   "execution_count": 17,
   "id": "9cade656-56f8-44e2-8d9b-3553566fdca7",
   "metadata": {},
   "outputs": [
    {
     "name": "stdout",
     "output_type": "stream",
     "text": [
      "[1. 2. 3. 4. 5.]\n"
     ]
    }
   ],
   "source": [
    "# pyton list\n",
    "python_list = [1,2,3,4,5]\n",
    "numy_array_from_list2 = np.array(python_list, dtype=float)\n",
    "print(numy_array_from_list2)"
   ]
  },
  {
   "cell_type": "code",
   "execution_count": 18,
   "id": "6720e38d-b62d-49f3-8f2f-33998c867d35",
   "metadata": {},
   "outputs": [
    {
     "name": "stdout",
     "output_type": "stream",
     "text": [
      "[False  True  True False False]\n"
     ]
    }
   ],
   "source": [
    "numpy_bool_array = np.array([0,1,-1,0,0] , dtype=bool)\n",
    "print(numpy_bool_array)"
   ]
  },
  {
   "cell_type": "code",
   "execution_count": 19,
   "id": "4e95cccf-cc46-4453-9ee7-5ef6a8b514b5",
   "metadata": {},
   "outputs": [
    {
     "name": "stdout",
     "output_type": "stream",
     "text": [
      "<class 'numpy.ndarray'>\n",
      "[[0 1 2]\n",
      " [3 4 5]\n",
      " [6 7 8]]\n"
     ]
    }
   ],
   "source": [
    "two_dimensional_list =[[0,1,2],[3,4,5],[6,7,8]]\n",
    "numpy_two_dimensional_list = np.array(two_dimensional_list)\n",
    "print(type(numpy_two_dimensional_list))\n",
    "print(numpy_two_dimensional_list)"
   ]
  },
  {
   "cell_type": "code",
   "execution_count": 20,
   "id": "db293518-467c-4896-998f-a83c0a732416",
   "metadata": {},
   "outputs": [
    {
     "name": "stdout",
     "output_type": "stream",
     "text": [
      "<class 'list'>\n",
      "one dimensional array: [1, 2, 3, 4, 5]\n",
      "two dimensional array: [[0, 1, 2], [3, 4, 5], [6, 7, 8]]\n"
     ]
    }
   ],
   "source": [
    "np_to_list = numpy_array_from_list.tolist()\n",
    "print(type(np_to_list))\n",
    "print(\"one dimensional array:\",np_to_list)\n",
    "print(\"two dimensional array:\" , numpy_two_dimensional_list.tolist())"
   ]
  },
  {
   "cell_type": "code",
   "execution_count": 21,
   "id": "0e34d784-79b7-4394-bed3-f179fbef49ce",
   "metadata": {},
   "outputs": [
    {
     "name": "stdout",
     "output_type": "stream",
     "text": [
      "<class 'tuple'>\n",
      "python_tuple: (1, 2, 3, 4, 5)\n",
      "<class 'numpy.ndarray'>\n",
      "numpy_array_from_tuple: [1 2 3 4 5]\n"
     ]
    }
   ],
   "source": [
    "# numpy array from tuple\n",
    "python_tuple = (1,2,3,4,5)\n",
    "print(type(python_tuple))\n",
    "print(\"python_tuple:\",python_tuple)\n",
    "numpy_array_from_tuple = np.array(python_tuple)\n",
    "print(type(numpy_array_from_tuple))\n",
    "print(\"numpy_array_from_tuple:\",numpy_array_from_tuple)"
   ]
  },
  {
   "cell_type": "code",
   "execution_count": 24,
   "id": "9658ba9f-38d3-4c01-87b5-94b0350cef84",
   "metadata": {},
   "outputs": [
    {
     "name": "stdout",
     "output_type": "stream",
     "text": [
      "[1 2 3 4 5]\n",
      "shape of nums: (5,)\n",
      "[[0 1 2]\n",
      " [3 4 5]\n",
      " [6 7 8]]\n",
      "shape of numpy_two_dimensional_list: (3, 3)\n",
      "(3, 4)\n"
     ]
    }
   ],
   "source": [
    "nums = np.array([1,2,3,4,5])\n",
    "print(nums)\n",
    "print(\"shape of nums:\",nums.shape)\n",
    "print(numpy_two_dimensional_list)\n",
    "print(\"shape of numpy_two_dimensional_list:\",numpy_two_dimensional_list.shape)\n",
    "three_by_four_array=np.array([[0,1,2,3],[4,5,6,7],[8,9,10,11]])\n",
    "print(three_by_four_array.shape)"
   ]
  },
  {
   "cell_type": "code",
   "execution_count": 25,
   "id": "4be481c5-f2c3-42bc-9a2f-8bcc341a44d5",
   "metadata": {},
   "outputs": [
    {
     "name": "stdout",
     "output_type": "stream",
     "text": [
      "[-3 -2 -1  0  1  2  3]\n",
      "int64\n",
      "[-3. -2. -1.  0.  1.  2.  3.]\n",
      "float64\n"
     ]
    }
   ],
   "source": [
    "int_lists =[-3,-2,-1,0,1,2,3]\n",
    "int_array = np.array(int_lists)\n",
    "float_array = np.array(int_lists,dtype=float)\n",
    "print(int_array)\n",
    "print(int_array.dtype)\n",
    "print(float_array)\n",
    "print(float_array.dtype)"
   ]
  },
  {
   "cell_type": "code",
   "execution_count": 28,
   "id": "7c1ecc36-df56-4cba-8a81-8fc0812f73bb",
   "metadata": {},
   "outputs": [
    {
     "name": "stdout",
     "output_type": "stream",
     "text": [
      "the size: 5\n",
      "the size: 9\n"
     ]
    }
   ],
   "source": [
    "numpy_array_from_list = np.array([1,2,3,4,5])\n",
    "two_dimensional_list = np.array([[0,1,2],[3,4,5],[6,7,8]])\n",
    "print(\"the size:\",numpy_array_from_list.size)\n",
    "print(\"the size:\",two_dimensional_list.size)"
   ]
  },
  {
   "cell_type": "code",
   "execution_count": 30,
   "id": "fd6f8cc7-a137-4c7a-a568-2741a573b73f",
   "metadata": {},
   "outputs": [
    {
     "name": "stdout",
     "output_type": "stream",
     "text": [
      "original array: [1 2 3 4 5]\n",
      "[11 12 13 14 15]\n"
     ]
    }
   ],
   "source": [
    "# Addition \n",
    "numpy_array_from_list = np.array([1,2,3,4,5])\n",
    "print(\"original array:\",numpy_array_from_list)\n",
    "ten_plus_original = numpy_array_from_list + 10\n",
    "print(ten_plus_original)"
   ]
  },
  {
   "cell_type": "code",
   "execution_count": 31,
   "id": "9ddabe5c-17a2-49dd-b577-1f3d103b1c0d",
   "metadata": {},
   "outputs": [
    {
     "name": "stdout",
     "output_type": "stream",
     "text": [
      "original array: [1 2 3 4 5]\n",
      "[-9 -8 -7 -6 -5]\n"
     ]
    }
   ],
   "source": [
    "# Substraction\n",
    "numpy_array_from_list = np.array([1,2,3,4,5])\n",
    "print(\"original array:\",numpy_array_from_list)\n",
    "ten_minus_original = numpy_array_from_list - 10\n",
    "print(ten_minus_original)"
   ]
  },
  {
   "cell_type": "code",
   "execution_count": 32,
   "id": "f4741b97-b997-4901-97f6-bca81b546ff8",
   "metadata": {},
   "outputs": [
    {
     "name": "stdout",
     "output_type": "stream",
     "text": [
      "original array:  [1 2 3 4 5]\n",
      "[10 20 30 40 50]\n"
     ]
    }
   ],
   "source": [
    "# Multiplication\n",
    "numpy_array_from_list = np.array([1, 2, 3, 4, 5])\n",
    "print('original array: ', numpy_array_from_list)\n",
    "ten_times_original = numpy_array_from_list * 10\n",
    "print(ten_times_original)"
   ]
  },
  {
   "cell_type": "code",
   "execution_count": 33,
   "id": "de4a0388-afa4-44ab-b916-1b96417d25b5",
   "metadata": {},
   "outputs": [
    {
     "name": "stdout",
     "output_type": "stream",
     "text": [
      "original array:  [1 2 3 4 5]\n",
      "[0.1 0.2 0.3 0.4 0.5]\n"
     ]
    }
   ],
   "source": [
    "# Division\n",
    "numpy_array_from_list = np.array([1, 2, 3, 4, 5])\n",
    "print('original array: ', numpy_array_from_list)\n",
    "ten_times_original = numpy_array_from_list / 10\n",
    "print(ten_times_original)"
   ]
  },
  {
   "cell_type": "code",
   "execution_count": 35,
   "id": "0b7d7f9b-396d-49d9-bdb0-93f3da086117",
   "metadata": {},
   "outputs": [
    {
     "name": "stdout",
     "output_type": "stream",
     "text": [
      "original array:  [1 2 3 4 5]\n",
      "[1 2 0 1 2]\n"
     ]
    }
   ],
   "source": [
    "# Modulus; Finding the remainder\n",
    "numpy_array_from_list = np.array([1, 2, 3, 4, 5])\n",
    "print('original array: ', numpy_array_from_list)\n",
    "ten_times_original = numpy_array_from_list % 3\n",
    "print(ten_times_original)"
   ]
  },
  {
   "cell_type": "code",
   "execution_count": 36,
   "id": "90271b39-dc0d-48df-820a-a26184129a32",
   "metadata": {},
   "outputs": [
    {
     "name": "stdout",
     "output_type": "stream",
     "text": [
      "original array:  [1 2 3 4 5]\n",
      "[0 0 0 0 0]\n"
     ]
    }
   ],
   "source": [
    "# Floor division: the division result without the remainder\n",
    "numpy_array_from_list = np.array([1, 2, 3, 4, 5])\n",
    "print('original array: ', numpy_array_from_list)\n",
    "ten_times_original = numpy_array_from_list // 10\n",
    "print(ten_times_original)"
   ]
  },
  {
   "cell_type": "code",
   "execution_count": 37,
   "id": "5dc3a987-5aee-4a49-8873-82ee70a9323c",
   "metadata": {},
   "outputs": [
    {
     "name": "stdout",
     "output_type": "stream",
     "text": [
      "original array:  [1 2 3 4 5]\n",
      "[ 1  4  9 16 25]\n"
     ]
    }
   ],
   "source": [
    "# Exponential is finding some number the power of another:\n",
    "numpy_array_from_list = np.array([1, 2, 3, 4, 5])\n",
    "print('original array: ', numpy_array_from_list)\n",
    "ten_times_original = numpy_array_from_list ** 2\n",
    "print(ten_times_original)"
   ]
  },
  {
   "cell_type": "code",
   "execution_count": 38,
   "id": "d8567f18-41c7-4e04-a4ea-8ffe048caf52",
   "metadata": {},
   "outputs": [
    {
     "name": "stdout",
     "output_type": "stream",
     "text": [
      "int64\n",
      "float64\n",
      "bool\n"
     ]
    }
   ],
   "source": [
    "#Int, Float numbers\n",
    "numpy_int_arr = np.array([1,2,3,4])\n",
    "numpy_float_arr = np.array([1.1, 2.0,3.2])\n",
    "numpy_bool_arr = np.array([-3, -2, 0, 1,2,3], dtype='bool')\n",
    "print(numpy_int_arr.dtype)\n",
    "print(numpy_float_arr.dtype)\n",
    "print(numpy_bool_arr.dtype)"
   ]
  },
  {
   "cell_type": "code",
   "execution_count": 40,
   "id": "edb28f4a-5141-4678-9882-0af6efd80bbe",
   "metadata": {},
   "outputs": [
    {
     "data": {
      "text/plain": [
       "array([1., 2., 3., 4.])"
      ]
     },
     "execution_count": 40,
     "metadata": {},
     "output_type": "execute_result"
    }
   ],
   "source": [
    "numpy_int_arr = np.array([1,2,3,4], dtype = 'float')\n",
    "numpy_int_arr"
   ]
  },
  {
   "cell_type": "code",
   "execution_count": 41,
   "id": "f0058dbb-7899-4f8c-b00f-337c3b04e458",
   "metadata": {},
   "outputs": [
    {
     "data": {
      "text/plain": [
       "array([1, 2, 3, 4])"
      ]
     },
     "execution_count": 41,
     "metadata": {},
     "output_type": "execute_result"
    }
   ],
   "source": [
    "numpy_int_arr = np.array([1., 2., 3., 4.], dtype = 'int')\n",
    "numpy_int_arr"
   ]
  },
  {
   "cell_type": "code",
   "execution_count": null,
   "id": "d0cd1813-18f6-4e0d-872d-0e1d4610d18e",
   "metadata": {},
   "outputs": [],
   "source": []
  },
  {
   "cell_type": "code",
   "execution_count": 46,
   "id": "e73d8cc0-f608-415b-8e23-2b531a1e5b94",
   "metadata": {},
   "outputs": [
    {
     "data": {
      "text/plain": [
       "array([ True,  True, False,  True,  True,  True])"
      ]
     },
     "execution_count": 46,
     "metadata": {},
     "output_type": "execute_result"
    }
   ],
   "source": [
    "np.array([-3, -2, 0, 1,2,3], dtype=\"bool\")"
   ]
  },
  {
   "cell_type": "code",
   "execution_count": 49,
   "id": "bc8cb937-e3f1-4686-83d7-366d8223a8da",
   "metadata": {},
   "outputs": [
    {
     "name": "stdout",
     "output_type": "stream",
     "text": [
      "<class 'numpy.ndarray'>\n",
      "[[1 2 3]\n",
      " [4 5 6]\n",
      " [7 8 9]]\n",
      "Shape:  (3, 3)\n",
      "Size: 9\n",
      "Data type: int64\n"
     ]
    }
   ],
   "source": [
    "# 2 Dimension Array\n",
    "two_dimension_array = np.array([(1,2,3),(4,5,6), (7,8,9)])\n",
    "print(type (two_dimension_array))\n",
    "print(two_dimension_array)\n",
    "print('Shape: ', two_dimension_array.shape)\n",
    "print('Size:', two_dimension_array.size)\n",
    "print('Data type:', two_dimension_array.dtype)"
   ]
  },
  {
   "cell_type": "code",
   "execution_count": 50,
   "id": "120ce3ba-ea41-44d5-9b19-a21a13bef9c1",
   "metadata": {},
   "outputs": [
    {
     "name": "stdout",
     "output_type": "stream",
     "text": [
      "First row: [1 2 3]\n",
      "Second row: [4 5 6]\n",
      "Third row:  [7 8 9]\n"
     ]
    }
   ],
   "source": [
    "# 2 Dimension Array\n",
    "two_dimension_array = np.array([[1,2,3],[4,5,6], [7,8,9]])\n",
    "first_row = two_dimension_array[0]\n",
    "second_row = two_dimension_array[1]\n",
    "third_row = two_dimension_array[2]\n",
    "print('First row:', first_row)\n",
    "print('Second row:', second_row)\n",
    "print('Third row: ', third_row)"
   ]
  },
  {
   "cell_type": "code",
   "execution_count": 51,
   "id": "e556a625-067b-4f5f-b322-8a9dfc3fb820",
   "metadata": {},
   "outputs": [
    {
     "name": "stdout",
     "output_type": "stream",
     "text": [
      "First column: [1 4 7]\n",
      "Second column: [2 5 8]\n",
      "Third column:  [3 6 9]\n",
      "[[1 2 3]\n",
      " [4 5 6]\n",
      " [7 8 9]]\n"
     ]
    }
   ],
   "source": [
    "first_column= two_dimension_array[:,0]\n",
    "second_column = two_dimension_array[:,1]\n",
    "third_column = two_dimension_array[:,2]\n",
    "print('First column:', first_column)\n",
    "print('Second column:', second_column)\n",
    "print('Third column: ', third_column)\n",
    "print(two_dimension_array)"
   ]
  },
  {
   "cell_type": "code",
   "execution_count": 52,
   "id": "51fed204-1ef4-491c-9d54-03b1ea3527df",
   "metadata": {},
   "outputs": [
    {
     "name": "stdout",
     "output_type": "stream",
     "text": [
      "[[1 2]\n",
      " [4 5]]\n"
     ]
    }
   ],
   "source": [
    "two_dimension_array = np.array([[1,2,3],[4,5,6], [7,8,9]])\n",
    "first_two_rows_and_columns = two_dimension_array[0:2, 0:2]\n",
    "print(first_two_rows_and_columns)"
   ]
  },
  {
   "cell_type": "code",
   "execution_count": 53,
   "id": "a1be0bf5-e343-4bde-95dc-1844531f1ea6",
   "metadata": {},
   "outputs": [
    {
     "data": {
      "text/plain": [
       "array([[1, 2, 3],\n",
       "       [4, 5, 6],\n",
       "       [7, 8, 9]])"
      ]
     },
     "execution_count": 53,
     "metadata": {},
     "output_type": "execute_result"
    }
   ],
   "source": [
    "two_dimension_array[::]"
   ]
  },
  {
   "cell_type": "code",
   "execution_count": 54,
   "id": "ec01d82d-99dc-4525-b59b-612427e8a364",
   "metadata": {},
   "outputs": [
    {
     "data": {
      "text/plain": [
       "array([[9, 8, 7],\n",
       "       [6, 5, 4],\n",
       "       [3, 2, 1]])"
      ]
     },
     "execution_count": 54,
     "metadata": {},
     "output_type": "execute_result"
    }
   ],
   "source": [
    "two_dimension_array = np.array([[1,2,3],[4,5,6], [7,8,9]])\n",
    "two_dimension_array[::-1,::-1]"
   ]
  },
  {
   "cell_type": "code",
   "execution_count": 55,
   "id": "ee570ea2-d7c3-4447-9da0-ca2166c5cc65",
   "metadata": {},
   "outputs": [
    {
     "name": "stdout",
     "output_type": "stream",
     "text": [
      "[[1 2 3]\n",
      " [4 5 6]\n",
      " [7 8 9]]\n",
      "[[ 1  2  3]\n",
      " [ 4 55 44]\n",
      " [ 7  8  9]]\n"
     ]
    }
   ],
   "source": [
    "print(two_dimension_array)\n",
    "two_dimension_array[1,1] = 55\n",
    "two_dimension_array[1,2] =44\n",
    "print(two_dimension_array)"
   ]
  },
  {
   "cell_type": "code",
   "execution_count": 56,
   "id": "bb55de0a-556e-414e-8f2b-7eaa3a9b3422",
   "metadata": {},
   "outputs": [
    {
     "data": {
      "text/plain": [
       "array([[0, 0, 0],\n",
       "       [0, 0, 0],\n",
       "       [0, 0, 0]])"
      ]
     },
     "execution_count": 56,
     "metadata": {},
     "output_type": "execute_result"
    }
   ],
   "source": [
    "numpy_zeroes = np.zeros((3,3),dtype=int,order='C')\n",
    "numpy_zeroes"
   ]
  },
  {
   "cell_type": "code",
   "execution_count": 57,
   "id": "34645f95-8141-418b-8e77-0b67c4392a5b",
   "metadata": {},
   "outputs": [
    {
     "name": "stdout",
     "output_type": "stream",
     "text": [
      "[[1 1 1]\n",
      " [1 1 1]\n",
      " [1 1 1]]\n"
     ]
    }
   ],
   "source": [
    "# Numpy Zeroes\n",
    "numpy_ones = np.ones((3,3),dtype=int,order='C')\n",
    "print(numpy_ones)"
   ]
  },
  {
   "cell_type": "code",
   "execution_count": 59,
   "id": "65fcaba0-eefb-4665-a545-3d7a83bc597e",
   "metadata": {},
   "outputs": [
    {
     "name": "stdout",
     "output_type": "stream",
     "text": [
      "[[1 2 3]\n",
      " [4 5 6]]\n",
      "[[1 2]\n",
      " [3 4]\n",
      " [5 6]]\n"
     ]
    }
   ],
   "source": [
    "twoes = numpy_ones * 2\n",
    "# Reshape\n",
    "# numpy.reshape(), numpy.flatten()\n",
    "first_shape = np.array([(1,2,3), (4,5,6)])\n",
    "print(first_shape)\n",
    "reshaped = first_shape.reshape(3,2)\n",
    "print(reshaped)"
   ]
  },
  {
   "cell_type": "code",
   "execution_count": 60,
   "id": "e9800311-c783-4303-837a-dabe0c967b13",
   "metadata": {},
   "outputs": [
    {
     "data": {
      "text/plain": [
       "array([1, 2, 3, 4, 5, 6])"
      ]
     },
     "execution_count": 60,
     "metadata": {},
     "output_type": "execute_result"
    }
   ],
   "source": [
    "flattened = reshaped.flatten()\n",
    "flattened"
   ]
  },
  {
   "cell_type": "code",
   "execution_count": 61,
   "id": "7df90f1b-1872-4b2c-8e70-bb4ac9d6df9f",
   "metadata": {},
   "outputs": [
    {
     "name": "stdout",
     "output_type": "stream",
     "text": [
      "[5 7 9]\n",
      "Horizontal Append: [1 2 3 4 5 6]\n"
     ]
    }
   ],
   "source": [
    "## Horitzontal Stack\n",
    "np_list_one = np.array([1,2,3])\n",
    "np_list_two = np.array([4,5,6])\n",
    "print(np_list_one + np_list_two)\n",
    "print('Horizontal Append:', np.hstack((np_list_one,\n",
    "np_list_two)))"
   ]
  },
  {
   "cell_type": "code",
   "execution_count": 63,
   "id": "54090eeb-907f-4349-8c74-bc59a84755dc",
   "metadata": {},
   "outputs": [
    {
     "name": "stdout",
     "output_type": "stream",
     "text": [
      "Vertical Append: [[1 2 3]\n",
      " [4 5 6]]\n"
     ]
    }
   ],
   "source": [
    "## Vertical Stack\n",
    "print('Vertical Append:', np.vstack((np_list_one,\n",
    "np_list_two)))"
   ]
  },
  {
   "cell_type": "code",
   "execution_count": 65,
   "id": "dd839fef-9cb6-405f-95f6-b97ecea54f81",
   "metadata": {},
   "outputs": [
    {
     "data": {
      "text/plain": [
       "0.816499720937852"
      ]
     },
     "execution_count": 65,
     "metadata": {},
     "output_type": "execute_result"
    }
   ],
   "source": [
    "# Generate a random float number\n",
    "random_float = np.random.random()\n",
    "random_float"
   ]
  },
  {
   "cell_type": "code",
   "execution_count": 68,
   "id": "04d1c286-6754-4812-9866-71d75d294d24",
   "metadata": {},
   "outputs": [
    {
     "data": {
      "text/plain": [
       "array([0.17004796, 0.81720863, 0.33893156, 0.10647298, 0.0548646 ])"
      ]
     },
     "execution_count": 68,
     "metadata": {},
     "output_type": "execute_result"
    }
   ],
   "source": [
    "# Generate a random float number\n",
    "random_floats = np.random.random(5)\n",
    "random_floats"
   ]
  },
  {
   "cell_type": "code",
   "execution_count": 70,
   "id": "f82ade9b-59df-4a5d-b583-1a9b405e30fc",
   "metadata": {},
   "outputs": [
    {
     "data": {
      "text/plain": [
       "8"
      ]
     },
     "execution_count": 70,
     "metadata": {},
     "output_type": "execute_result"
    }
   ],
   "source": [
    "# Generating a random integers between 0 and 10\n",
    "random_int = np.random.randint(0, 11)\n",
    "random_int"
   ]
  },
  {
   "cell_type": "code",
   "execution_count": 74,
   "id": "6d10b3f9-4274-4fa3-aab4-d232e9d30c9c",
   "metadata": {},
   "outputs": [
    {
     "data": {
      "text/plain": [
       "array([9, 9, 8, 9], dtype=int32)"
      ]
     },
     "execution_count": 74,
     "metadata": {},
     "output_type": "execute_result"
    }
   ],
   "source": [
    "# Generating a random integers between 2 and 11\n",
    "random_int = np.random.randint(2,10, size=4)\n",
    "random_int"
   ]
  },
  {
   "cell_type": "code",
   "execution_count": 75,
   "id": "f9485979-c478-4857-8b38-7ee197cd5c0a",
   "metadata": {},
   "outputs": [
    {
     "data": {
      "text/plain": [
       "array([ 55.01147083,  87.32389694,  83.78209936,  78.29425952,\n",
       "        77.5197109 ,  52.61124805,  90.22273624,  94.10368016,\n",
       "        81.28505653, 108.9612112 ,  39.96837658,  78.97869601,\n",
       "        92.89320627,  85.85532164,  94.82759345,  77.20822522,\n",
       "        92.01506916,  85.92456645,  81.08350096,  87.90498853,\n",
       "       115.00931428,  85.92365648,  70.7860269 ,  94.3139164 ,\n",
       "        93.49724162,  65.42301704,  67.44507773,  86.2119082 ,\n",
       "        84.6807284 , 117.90672039,  52.65772475,  85.05591409,\n",
       "        75.34377473,  86.39356477,  92.98026287,  70.5588441 ,\n",
       "        74.39132662,  94.34935682,  75.50311842,  94.83031341,\n",
       "        70.27875812,  59.21060786,  77.98305064,  85.55297053,\n",
       "        89.41760093,  69.52226747,  96.565082  ,  67.93259723,\n",
       "        90.45216254, 102.42982785,  88.17506125, 110.90692763,\n",
       "        69.86490768,  71.97037807,  69.14068224,  93.42074514,\n",
       "        66.3258507 ,  65.3682534 , 103.33542245,  68.90158763,\n",
       "        64.41866202,  30.71941947,  85.8431602 ,  71.78573796,\n",
       "        63.18276935,  72.16908468,  85.59089526,  55.28177611,\n",
       "       101.28729363,  51.87544678, 101.64433595,  58.0379865 ,\n",
       "        66.21288942,  99.80434418,  89.73764866,  71.96338313,\n",
       "        71.52799948,  93.8072086 ,  61.83174512,  97.45468905])"
      ]
     },
     "execution_count": 75,
     "metadata": {},
     "output_type": "execute_result"
    }
   ],
   "source": [
    "# np.random.normal(mu, sigma, size)\n",
    "normal_array = np.random.normal(79, 15, 80)\n",
    "normal_array"
   ]
  },
  {
   "cell_type": "code",
   "execution_count": 83,
   "id": "f3019752-8c80-49b0-9866-92abd2705277",
   "metadata": {},
   "outputs": [
    {
     "data": {
      "text/plain": [
       "(array([1., 0., 0., 0., 0., 1., 0., 0., 0., 0., 0., 0., 3., 1., 1., 1., 1.,\n",
       "        1., 1., 3., 2., 3., 6., 5., 0., 3., 2., 3., 2., 0., 2., 9., 3., 2.,\n",
       "        2., 4., 7., 1., 1., 1., 2., 2., 0., 0., 1., 1., 0., 0., 1., 1.]),\n",
       " array([ 30.71941947,  32.46316549,  34.20691151,  35.95065753,\n",
       "         37.69440355,  39.43814957,  41.18189558,  42.9256416 ,\n",
       "         44.66938762,  46.41313364,  48.15687966,  49.90062568,\n",
       "         51.6443717 ,  53.38811771,  55.13186373,  56.87560975,\n",
       "         58.61935577,  60.36310179,  62.10684781,  63.85059382,\n",
       "         65.59433984,  67.33808586,  69.08183188,  70.8255779 ,\n",
       "         72.56932392,  74.31306993,  76.05681595,  77.80056197,\n",
       "         79.54430799,  81.28805401,  83.03180003,  84.77554605,\n",
       "         86.51929206,  88.26303808,  90.0067841 ,  91.75053012,\n",
       "         93.49427614,  95.23802216,  96.98176817,  98.72551419,\n",
       "        100.46926021, 102.21300623, 103.95675225, 105.70049827,\n",
       "        107.44424428, 109.1879903 , 110.93173632, 112.67548234,\n",
       "        114.41922836, 116.16297438, 117.90672039]),\n",
       " <BarContainer object of 50 artists>)"
      ]
     },
     "execution_count": 83,
     "metadata": {},
     "output_type": "execute_result"
    },
    {
     "data": {
      "image/png": "[encoded data removed]",
      "text/plain": [
       "<Figure size 640x480 with 1 Axes>"
      ]
     },
     "metadata": {},
     "output_type": "display_data"
    }
   ],
   "source": [
    "import matplotlib.pyplot as plt\n",
    "import seaborn as sns\n",
    "sns.set()\n",
    "plt.hist(normal_array, color=\"red\", bins=50)"
   ]
  },
  {
   "cell_type": "code",
   "execution_count": 88,
   "id": "f08fa1e0-3134-472b-8951-9888c7a9e07d",
   "metadata": {},
   "outputs": [
    {
     "data": {
      "text/plain": [
       "matrix([[1., 1., 1., 1.],\n",
       "        [1., 1., 1., 1.],\n",
       "        [1., 1., 1., 1.],\n",
       "        [1., 1., 1., 1.]])"
      ]
     },
     "execution_count": 88,
     "metadata": {},
     "output_type": "execute_result"
    }
   ],
   "source": [
    "four_by_four_matrix = np.matrix(np.ones((4,4), dtype=float))\n",
    "four_by_four_matrix"
   ]
  },
  {
   "cell_type": "code",
   "execution_count": 89,
   "id": "fc78b4b8-7422-4f61-af73-ed8ec19dbaa1",
   "metadata": {},
   "outputs": [
    {
     "data": {
      "text/plain": [
       "matrix([[1., 1., 1., 1.],\n",
       "        [1., 1., 1., 1.],\n",
       "        [2., 2., 2., 2.],\n",
       "        [1., 1., 1., 1.]])"
      ]
     },
     "execution_count": 89,
     "metadata": {},
     "output_type": "execute_result"
    }
   ],
   "source": [
    "np.asarray(four_by_four_matrix)[2] = 2\n",
    "four_by_four_matrix"
   ]
  },
  {
   "cell_type": "code",
   "execution_count": 90,
   "id": "2dada1d2-5ff2-48df-b068-0e047fff790b",
   "metadata": {},
   "outputs": [
    {
     "data": {
      "text/plain": [
       "range(0, 11, 2)"
      ]
     },
     "execution_count": 90,
     "metadata": {},
     "output_type": "execute_result"
    }
   ],
   "source": [
    "# creating list using range(starting, stop, step)\n",
    "lst = range(0, 11, 2)\n",
    "lst"
   ]
  },
  {
   "cell_type": "code",
   "execution_count": 95,
   "id": "9a01f05f-332f-494a-a18e-b0748af3b6cb",
   "metadata": {},
   "outputs": [
    {
     "name": "stdout",
     "output_type": "stream",
     "text": [
      "0\n",
      "2\n",
      "4\n",
      "6\n",
      "8\n",
      "10\n"
     ]
    }
   ],
   "source": [
    "for l in lst:\n",
    "    print(l)"
   ]
  },
  {
   "cell_type": "code",
   "execution_count": 96,
   "id": "7172eab9-ba70-4f1b-885b-a1bc2e8f474c",
   "metadata": {},
   "outputs": [
    {
     "data": {
      "text/plain": [
       "array([ 0,  1,  2,  3,  4,  5,  6,  7,  8,  9, 10, 11, 12, 13, 14, 15, 16,\n",
       "       17, 18, 19])"
      ]
     },
     "execution_count": 96,
     "metadata": {},
     "output_type": "execute_result"
    }
   ],
   "source": [
    "# Similar to range arange numpy.arange(start, stop, step)\n",
    "whole_numbers = np.arange(0, 20, 1)\n",
    "whole_numbers"
   ]
  },
  {
   "cell_type": "code",
   "execution_count": 97,
   "id": "3d39593a-2f2f-4c07-965a-88e65ab9d2dc",
   "metadata": {},
   "outputs": [
    {
     "data": {
      "text/plain": [
       "array([ 1,  3,  5,  7,  9, 11, 13, 15, 17, 19])"
      ]
     },
     "execution_count": 97,
     "metadata": {},
     "output_type": "execute_result"
    }
   ],
   "source": [
    "odd_numbers = np.arange(1, 20, 2)\n",
    "odd_numbers"
   ]
  },
  {
   "cell_type": "code",
   "execution_count": 98,
   "id": "35645d0e-12a7-4325-8179-06f4e21699f0",
   "metadata": {},
   "outputs": [
    {
     "data": {
      "text/plain": [
       "array([ 2,  4,  6,  8, 10, 12, 14, 16, 18])"
      ]
     },
     "execution_count": 98,
     "metadata": {},
     "output_type": "execute_result"
    }
   ],
   "source": [
    "even_numbers = np.arange(2, 20, 2)\n",
    "even_numbers"
   ]
  },
  {
   "cell_type": "code",
   "execution_count": 99,
   "id": "99095c3c-c952-4615-871a-9d2d374f4277",
   "metadata": {},
   "outputs": [
    {
     "data": {
      "text/plain": [
       "array([1.        , 1.44444444, 1.88888889, 2.33333333, 2.77777778,\n",
       "       3.22222222, 3.66666667, 4.11111111, 4.55555556, 5.        ])"
      ]
     },
     "execution_count": 99,
     "metadata": {},
     "output_type": "execute_result"
    }
   ],
   "source": [
    "np.linspace(1.0, 5.0, num=10)"
   ]
  },
  {
   "cell_type": "code",
   "execution_count": 100,
   "id": "c0665a93-da1d-4b2e-90bd-eaa7505df334",
   "metadata": {},
   "outputs": [
    {
     "data": {
      "text/plain": [
       "array([1. , 1.8, 2.6, 3.4, 4.2])"
      ]
     },
     "execution_count": 100,
     "metadata": {},
     "output_type": "execute_result"
    }
   ],
   "source": [
    "np.linspace(1.0, 5.0, num=5, endpoint=False)"
   ]
  },
  {
   "cell_type": "code",
   "execution_count": 102,
   "id": "7a5e1129-5272-4c18-ba08-9e3cd9bd2289",
   "metadata": {},
   "outputs": [
    {
     "data": {
      "text/plain": [
       "array([  100.        ,   464.15888336,  2154.43469003, 10000.        ])"
      ]
     },
     "execution_count": 102,
     "metadata": {},
     "output_type": "execute_result"
    }
   ],
   "source": [
    "np.logspace(2, 4.0, num=4)"
   ]
  },
  {
   "cell_type": "code",
   "execution_count": 104,
   "id": "16ef27bb-8fd1-49c4-b9fe-8a82358b8aa0",
   "metadata": {},
   "outputs": [
    {
     "data": {
      "text/plain": [
       "array([1.+0.j, 2.+0.j, 3.+0.j])"
      ]
     },
     "execution_count": 104,
     "metadata": {},
     "output_type": "execute_result"
    }
   ],
   "source": [
    "x = np.array([1,2,3], dtype=np.complex128)\n",
    "x"
   ]
  },
  {
   "cell_type": "code",
   "execution_count": 105,
   "id": "e338e23e-63ce-409f-a11b-cc449f6aa39b",
   "metadata": {},
   "outputs": [
    {
     "data": {
      "text/plain": [
       "array([[1, 2, 3],\n",
       "       [4, 5, 6]])"
      ]
     },
     "execution_count": 105,
     "metadata": {},
     "output_type": "execute_result"
    }
   ],
   "source": [
    "np_list = np.array([(1,2,3), (4,5,6)])\n",
    "np_list"
   ]
  },
  {
   "cell_type": "code",
   "execution_count": 106,
   "id": "ac4ad8cf-e50a-46f3-9184-0559f702758f",
   "metadata": {},
   "outputs": [
    {
     "name": "stdout",
     "output_type": "stream",
     "text": [
      "First row:  [1 2 3]\n",
      "Second row:  [4 5 6]\n"
     ]
    }
   ],
   "source": [
    "print('First row: ', np_list[0])\n",
    "print('Second row: ', np_list[1])"
   ]
  },
  {
   "cell_type": "code",
   "execution_count": 107,
   "id": "50b6e3dc-a6ab-41b7-b236-792c165caace",
   "metadata": {},
   "outputs": [
    {
     "name": "stdout",
     "output_type": "stream",
     "text": [
      "First column:  [1 4]\n",
      "Second column:  [2 5]\n",
      "Third column:  [3 6]\n"
     ]
    }
   ],
   "source": [
    "print('First column: ', np_list[:,0])\n",
    "print('Second column: ', np_list[:,1])\n",
    "print('Third column: ', np_list[:,2])"
   ]
  },
  {
   "cell_type": "code",
   "execution_count": 108,
   "id": "53638997-ac9e-4a24-98df-6c11048ef43e",
   "metadata": {},
   "outputs": [
    {
     "name": "stdout",
     "output_type": "stream",
     "text": [
      "min:  1\n",
      "max:  55\n",
      "mean:  14.777777777777779\n",
      "sd:  18.913709183069525\n"
     ]
    }
   ],
   "source": [
    "np_normal_dis = np.random.normal(5, 0.5, 100)\n",
    "np_normal_dis\n",
    "## min, max, mean, median, sd\n",
    "print('min: ', two_dimension_array.min())\n",
    "print('max: ', two_dimension_array.max())\n",
    "print('mean: ',two_dimension_array.mean())\n",
    "# print('median: ', two_dimension_array.median())\n",
    "print('sd: ', two_dimension_array.std())"
   ]
  },
  {
   "cell_type": "code",
   "execution_count": 109,
   "id": "6046d118-89e5-42ce-be9f-df90c5e62746",
   "metadata": {},
   "outputs": [
    {
     "name": "stdout",
     "output_type": "stream",
     "text": [
      "[[ 1  2  3]\n",
      " [ 4 55 44]\n",
      " [ 7  8  9]]\n",
      "Column with minimum:  [1 2 3]\n",
      "Column with maximum:  [ 7 55 44]\n",
      "=== Row ==\n",
      "Row with minimum:  [1 4 7]\n",
      "Row with maximum:  [ 3 55  9]\n"
     ]
    }
   ],
   "source": [
    "print(two_dimension_array)\n",
    "print('Column with minimum: ',\n",
    "np.amin(two_dimension_array,axis=0))\n",
    "print('Column with maximum: ',\n",
    "np.amax(two_dimension_array,axis=0))\n",
    "print('=== Row ==')\n",
    "print('Row with minimum: ',\n",
    "np.amin(two_dimension_array,axis=1))\n",
    "print('Row with maximum: ',\n",
    "np.amax(two_dimension_array,axis=1))"
   ]
  },
  {
   "cell_type": "code",
   "execution_count": 113,
   "id": "b875e23b-c21c-4511-9d7e-3ba8ec7cd464",
   "metadata": {},
   "outputs": [
    {
     "name": "stdout",
     "output_type": "stream",
     "text": [
      "Tile:  [1 2 3 1 2 3]\n",
      "Repeat:  [1 1 2 2 3 3]\n"
     ]
    }
   ],
   "source": [
    "a = [1,2,3]\n",
    "print('Tile: ', np.tile(a, 2) )\n",
    "print('Repeat: ', np.repeat(a, 2))                       "
   ]
  },
  {
   "cell_type": "code",
   "execution_count": 116,
   "id": "894bb2f8-ceb2-4ae0-89b0-62a53e4b9f69",
   "metadata": {},
   "outputs": [
    {
     "name": "stdout",
     "output_type": "stream",
     "text": [
      "0.12391873277688203\n"
     ]
    }
   ],
   "source": [
    "one_random_num = np.random.random()\n",
    "one_random_in = np.random\n",
    "print(one_random_num)"
   ]
  },
  {
   "cell_type": "code",
   "execution_count": 117,
   "id": "046b3925-9285-4a23-b8de-39b7b8a7392f",
   "metadata": {},
   "outputs": [
    {
     "name": "stdout",
     "output_type": "stream",
     "text": [
      "[[0.73455987 0.63468538 0.05510229]\n",
      " [0.9233777  0.28753438 0.88284296]]\n"
     ]
    }
   ],
   "source": [
    "r = np.random.random(size=[2,3])\n",
    "print(r)"
   ]
  },
  {
   "cell_type": "code",
   "execution_count": 118,
   "id": "3b0eb0be-6679-459c-a4aa-ff21818ed28b",
   "metadata": {},
   "outputs": [
    {
     "name": "stdout",
     "output_type": "stream",
     "text": [
      "['i' 'e' 'o' 'o' 'a' 'e' 'u' 'i' 'i' 'o']\n"
     ]
    }
   ],
   "source": [
    "print(np.random.choice(['a', 'e', 'i', 'o', 'u'], size=10))"
   ]
  },
  {
   "cell_type": "code",
   "execution_count": 119,
   "id": "c588623d-e09d-4d88-96c7-141d087387af",
   "metadata": {},
   "outputs": [
    {
     "data": {
      "text/plain": [
       "array([[0.19137395, 0.87343202],\n",
       "       [0.66620861, 0.16650205]])"
      ]
     },
     "execution_count": 119,
     "metadata": {},
     "output_type": "execute_result"
    }
   ],
   "source": [
    "rand = np.random.rand(2,2)\n",
    "rand"
   ]
  },
  {
   "cell_type": "code",
   "execution_count": 120,
   "id": "9d334e6d-651a-4a0e-b69f-fb306536b9db",
   "metadata": {},
   "outputs": [
    {
     "data": {
      "text/plain": [
       "array([[-0.40383209,  0.15073446],\n",
       "       [-0.48088162, -1.32557005]])"
      ]
     },
     "execution_count": 120,
     "metadata": {},
     "output_type": "execute_result"
    }
   ],
   "source": [
    "rand2 = np.random.randn(2,2)\n",
    "rand2"
   ]
  },
  {
   "cell_type": "code",
   "execution_count": 121,
   "id": "7a16499f-6f79-4f1a-910f-810af62518b1",
   "metadata": {},
   "outputs": [
    {
     "data": {
      "text/plain": [
       "array([[5, 8, 7],\n",
       "       [6, 4, 7],\n",
       "       [9, 9, 1],\n",
       "       [4, 6, 1],\n",
       "       [3, 0, 3]], dtype=int32)"
      ]
     },
     "execution_count": 121,
     "metadata": {},
     "output_type": "execute_result"
    }
   ],
   "source": [
    "rand_int = np.random.randint(0, 10, size=[5,3])\n",
    "rand_int"
   ]
  },
  {
   "cell_type": "code",
   "execution_count": 123,
   "id": "aac524f8-cc4f-4c2f-8e5d-72e85e0c2dc4",
   "metadata": {},
   "outputs": [
    {
     "name": "stdout",
     "output_type": "stream",
     "text": [
      "min:  3.390511575078909\n",
      "max:  6.619126587287459\n",
      "mean:  4.998662766311874\n",
      "median:  4.997759165374514\n",
      "mode:  ModeResult(mode=np.float64(3.390511575078909), count=np.int64(1))\n",
      "sd:  0.5110430714501584\n"
     ]
    }
   ],
   "source": [
    "from scipy import stats\n",
    "np_normal_dis = np.random.normal(5, 0.5, 1000) \n",
    "## min, max, mean, median, sd\n",
    "print('min: ', np.min(np_normal_dis))\n",
    "print('max: ', np.max(np_normal_dis))\n",
    "print('mean: ', np.mean(np_normal_dis))\n",
    "print('median: ', np.median(np_normal_dis))\n",
    "print('mode: ', stats.mode(np_normal_dis))\n",
    "print('sd: ', np.std(np_normal_dis))"
   ]
  },
  {
   "cell_type": "code",
   "execution_count": 125,
   "id": "7825fba2-4f5f-4c93-bbe3-67de6f2cf42c",
   "metadata": {},
   "outputs": [
    {
     "data": {
      "image/png": "[encoded data removed]",
      "text/plain": [
       "<Figure size 640x480 with 1 Axes>"
      ]
     },
     "metadata": {},
     "output_type": "display_data"
    }
   ],
   "source": [
    "plt.hist(np_normal_dis, color=\"green\", bins=21)\n",
    "plt.show()"
   ]
  },
  {
   "cell_type": "code",
   "execution_count": 126,
   "id": "990b7e15-f461-4bf1-8edc-9d80dfa82ef2",
   "metadata": {},
   "outputs": [
    {
     "data": {
      "text/plain": [
       "np.int64(23)"
      ]
     },
     "execution_count": 126,
     "metadata": {},
     "output_type": "execute_result"
    }
   ],
   "source": [
    "f = np.array([1,2,3])\n",
    "g = np.array([4,5,3])\n",
    "np.dot(f, g) "
   ]
  },
  {
   "cell_type": "code",
   "execution_count": 127,
   "id": "68a5c831-a5e5-44ca-b4ff-8f68ea5466cd",
   "metadata": {},
   "outputs": [
    {
     "data": {
      "text/plain": [
       "array([[19, 22],\n",
       "       [43, 50]])"
      ]
     },
     "execution_count": 127,
     "metadata": {},
     "output_type": "execute_result"
    }
   ],
   "source": [
    "h = [[1,2],[3,4]]\n",
    "i = [[5,6],[7,8]]\n",
    "np.matmul(h, i)"
   ]
  },
  {
   "cell_type": "code",
   "execution_count": 128,
   "id": "dab79c03-9b36-4ae3-9125-dd6f4681669f",
   "metadata": {},
   "outputs": [
    {
     "data": {
      "text/plain": [
       "np.float64(-1.999999999999999)"
      ]
     },
     "execution_count": 128,
     "metadata": {},
     "output_type": "execute_result"
    }
   ],
   "source": [
    "np.linalg.det(i)"
   ]
  },
  {
   "cell_type": "code",
   "execution_count": 132,
   "id": "9f137426-1d10-4812-b7a4-660a3bff432e",
   "metadata": {},
   "outputs": [],
   "source": [
    "Z = np.zeros((8,8))\n",
    "Z[1::2,::2] = 1\n",
    "Z[::2,1::2] = 1"
   ]
  },
  {
   "cell_type": "code",
   "execution_count": 133,
   "id": "0c80977c-b506-4a0b-9f64-bd1da281841a",
   "metadata": {},
   "outputs": [
    {
     "data": {
      "text/plain": [
       "[2, 3, 4, 5, 6, 7, 8, 9, 10, 11, 12]"
      ]
     },
     "execution_count": 133,
     "metadata": {},
     "output_type": "execute_result"
    }
   ],
   "source": [
    "new_list = [ x + 2 for x in range(0, 11)]\n",
    "new_list"
   ]
  },
  {
   "cell_type": "code",
   "execution_count": 134,
   "id": "2a6acaaf-7780-45b3-a4db-5299c98e0eb7",
   "metadata": {},
   "outputs": [
    {
     "data": {
      "text/plain": [
       "array([ 2,  3,  4,  5,  6,  7,  8,  9, 10, 11, 12])"
      ]
     },
     "execution_count": 134,
     "metadata": {},
     "output_type": "execute_result"
    }
   ],
   "source": [
    "np_arr = np.array(range(0, 11))\n",
    "np_arr + 2"
   ]
  },
  {
   "cell_type": "code",
   "execution_count": 135,
   "id": "e320aaca-fc01-4d58-b68b-a6d8df6015fe",
   "metadata": {},
   "outputs": [
    {
     "data": {
      "text/plain": [
       "array([ 7,  9, 11, 13, 15])"
      ]
     },
     "execution_count": 135,
     "metadata": {},
     "output_type": "execute_result"
    }
   ],
   "source": [
    "temp = np.array([1,2,3,4,5])\n",
    "pressure = temp * 2 + 5\n",
    "pressure"
   ]
  },
  {
   "cell_type": "code",
   "execution_count": 136,
   "id": "60c2df22-f7c3-4a71-8035-763d8d1abb9f",
   "metadata": {},
   "outputs": [
    {
     "data": {
      "image/png": "[encoded data removed]",
      "text/plain": [
       "<Figure size 640x480 with 1 Axes>"
      ]
     },
     "metadata": {},
     "output_type": "display_data"
    }
   ],
   "source": [
    "plt.plot(temp,pressure)\n",
    "plt.xlabel('Temperature in oC')\n",
    "plt.ylabel('Pressure in atm')\n",
    "plt.title('Temperature vs Pressure')\n",
    "plt.xticks(np.arange(0, 6, step=0.5))\n",
    "plt.show()"
   ]
  },
  {
   "cell_type": "code",
   "execution_count": 137,
   "id": "fb485b3c-9e04-49b9-94bf-97fc893f5088",
   "metadata": {},
   "outputs": [
    {
     "name": "stderr",
     "output_type": "stream",
     "text": [
      "C:\\Users\\d\\AppData\\Local\\Temp\\ipykernel_13952\\3640919733.py:5: UserWarning: \n",
      "\n",
      "`distplot` is a deprecated function and will be removed in seaborn v0.14.0.\n",
      "\n",
      "Please adapt your code to use either `displot` (a figure-level function with\n",
      "similar flexibility) or `histplot` (an axes-level function for histograms).\n",
      "\n",
      "For a guide to updating your code to use the new functions, please see\n",
      "https://gist.github.com/mwaskom/de44147ed2974457ad6372750bbe5751\n",
      "\n",
      "  ax = sns.distplot(x);\n"
     ]
    },
    {
     "data": {
      "image/png": "[encoded data removed]",
      "text/plain": [
       "<Figure size 640x480 with 1 Axes>"
      ]
     },
     "metadata": {},
     "output_type": "display_data"
    }
   ],
   "source": [
    "mu = 28\n",
    "sigma = 15\n",
    "samples = 100000\n",
    "x = np.random.normal(mu, sigma, samples)\n",
    "ax = sns.distplot(x);\n",
    "ax.set(xlabel=\"x\", ylabel='y')\n",
    "plt.show()"
   ]
  },
  {
   "cell_type": "code",
   "execution_count": null,
   "id": "77540839-4b75-4117-906b-c88640cb3919",
   "metadata": {},
   "outputs": [],
   "source": []
  }
 ],
 "metadata": {
  "kernelspec": {
   "display_name": "Python [conda env:base] *",
   "language": "python",
   "name": "conda-base-py"
  },
  "language_info": {
   "codemirror_mode": {
    "name": "ipython",
    "version": 3
   },
   "file_extension": ".py",
   "mimetype": "text/x-python",
   "name": "python",
   "nbconvert_exporter": "python",
   "pygments_lexer": "ipython3",
   "version": "3.13.5"
  }
 },
 "nbformat": 4,
 "nbformat_minor": 5
}
